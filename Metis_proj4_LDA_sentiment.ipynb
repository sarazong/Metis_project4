{
 "cells": [
  {
   "cell_type": "code",
   "execution_count": 1,
   "id": "discrete-benjamin",
   "metadata": {},
   "outputs": [],
   "source": [
    "import numpy as np, pandas as pd\n",
    "import matplotlib.pyplot as plt, seaborn as sns\n",
    "\n",
    "import time, warnings, pickle\n",
    "import re, nltk\n",
    "\n",
    "from sklearn.feature_extraction.text import CountVectorizer, TfidfVectorizer\n",
    "from gensim import matutils, models\n",
    "\n",
    "%matplotlib inline\n",
    "plt.style.use(\"seaborn\")\n",
    "pd.options.display.max_colwidth = 120\n",
    "warnings.filterwarnings(\"ignore\", category=DeprecationWarning)"
   ]
  },
  {
   "cell_type": "code",
   "execution_count": 3,
   "id": "urban-shield",
   "metadata": {},
   "outputs": [
    {
     "data": {
      "text/html": [
       "<div>\n",
       "<style scoped>\n",
       "    .dataframe tbody tr th:only-of-type {\n",
       "        vertical-align: middle;\n",
       "    }\n",
       "\n",
       "    .dataframe tbody tr th {\n",
       "        vertical-align: top;\n",
       "    }\n",
       "\n",
       "    .dataframe thead th {\n",
       "        text-align: right;\n",
       "    }\n",
       "</style>\n",
       "<table border=\"1\" class=\"dataframe\">\n",
       "  <thead>\n",
       "    <tr style=\"text-align: right;\">\n",
       "      <th></th>\n",
       "      <th>cont_clean</th>\n",
       "    </tr>\n",
       "  </thead>\n",
       "  <tbody>\n",
       "    <tr>\n",
       "      <th>873185</th>\n",
       "      <td>[(we, PRP), (listen, VBP), (closely, RB), (case, NN), (of, IN), (murder, NN), (and, CC), (loss, NN), (going, VBG), (...</td>\n",
       "    </tr>\n",
       "    <tr>\n",
       "      <th>694914</th>\n",
       "      <td>[(love, VB), (adam, NN), (brooke, NN), (so, RB), (true, JJ), (the, DT), (generation, NN), (change, NN), (but, CC), (...</td>\n",
       "    </tr>\n",
       "    <tr>\n",
       "      <th>759771</th>\n",
       "      <td>[(holly, RB), (and, CC), (her, PRP$), (guest, NN), (share, NN), (inspiring, VBG), (and, CC), (actionable, JJ), (less...</td>\n",
       "    </tr>\n",
       "    <tr>\n",
       "      <th>532244</th>\n",
       "      <td>[(i, NN), (think, VBP), (that, IN), (anyone, NN), (who, WP), (is, VBZ), (looking, VBG), (for, IN), (a, DT), (perspec...</td>\n",
       "    </tr>\n",
       "    <tr>\n",
       "      <th>427706</th>\n",
       "      <td>[(people, NNS), (act, VBP), (like, IN), (the, DT), (disclaimer, NN), (wa, NN), (so, IN), (annoying, VBG), (it, PRP),...</td>\n",
       "    </tr>\n",
       "  </tbody>\n",
       "</table>\n",
       "</div>"
      ],
      "text/plain": [
       "                                                                                                                     cont_clean\n",
       "873185  [(we, PRP), (listen, VBP), (closely, RB), (case, NN), (of, IN), (murder, NN), (and, CC), (loss, NN), (going, VBG), (...\n",
       "694914  [(love, VB), (adam, NN), (brooke, NN), (so, RB), (true, JJ), (the, DT), (generation, NN), (change, NN), (but, CC), (...\n",
       "759771  [(holly, RB), (and, CC), (her, PRP$), (guest, NN), (share, NN), (inspiring, VBG), (and, CC), (actionable, JJ), (less...\n",
       "532244  [(i, NN), (think, VBP), (that, IN), (anyone, NN), (who, WP), (is, VBZ), (looking, VBG), (for, IN), (a, DT), (perspec...\n",
       "427706  [(people, NNS), (act, VBP), (like, IN), (the, DT), (disclaimer, NN), (wa, NN), (so, IN), (annoying, VBG), (it, PRP),..."
      ]
     },
     "execution_count": 3,
     "metadata": {},
     "output_type": "execute_result"
    }
   ],
   "source": [
    "text_tagged = pd.read_pickle(\"data/review_tokens_tagged.pkl\")\n",
    "text_tagged.head()"
   ]
  },
  {
   "cell_type": "code",
   "execution_count": 4,
   "id": "unknown-mounting",
   "metadata": {},
   "outputs": [],
   "source": [
    "def tag_noun(text_noun):\n",
    "    \"\"\"Extracts the nouns in a string of text.\n",
    "       Parameters: string of text\n",
    "       Returns: string with nouns\n",
    "    \"\"\"\n",
    "    noun = lambda pos: pos[:2] == \"NN\"\n",
    "    all_nouns = [word for (word, pos) in text_noun if noun(pos)]\n",
    "    return \" \".join(all_nouns)"
   ]
  },
  {
   "cell_type": "code",
   "execution_count": 5,
   "id": "whole-norway",
   "metadata": {},
   "outputs": [],
   "source": [
    "#pull out all the nouns\n",
    "text_tagged[\"nouns\"] = text_tagged[\"cont_clean\"].apply(tag_noun)"
   ]
  },
  {
   "cell_type": "code",
   "execution_count": 6,
   "id": "cutting-structure",
   "metadata": {
    "scrolled": true
   },
   "outputs": [
    {
     "data": {
      "text/html": [
       "<div>\n",
       "<style scoped>\n",
       "    .dataframe tbody tr th:only-of-type {\n",
       "        vertical-align: middle;\n",
       "    }\n",
       "\n",
       "    .dataframe tbody tr th {\n",
       "        vertical-align: top;\n",
       "    }\n",
       "\n",
       "    .dataframe thead th {\n",
       "        text-align: right;\n",
       "    }\n",
       "</style>\n",
       "<table border=\"1\" class=\"dataframe\">\n",
       "  <thead>\n",
       "    <tr style=\"text-align: right;\">\n",
       "      <th></th>\n",
       "      <th>cont_clean</th>\n",
       "      <th>nouns</th>\n",
       "    </tr>\n",
       "  </thead>\n",
       "  <tbody>\n",
       "    <tr>\n",
       "      <th>873185</th>\n",
       "      <td>[(we, PRP), (listen, VBP), (closely, RB), (case, NN), (of, IN), (murder, NN), (and, CC), (loss, NN), (going, VBG), (...</td>\n",
       "      <td>case murder loss crime stella portland oregon</td>\n",
       "    </tr>\n",
       "    <tr>\n",
       "      <th>694914</th>\n",
       "      <td>[(love, VB), (adam, NN), (brooke, NN), (so, RB), (true, JJ), (the, DT), (generation, NN), (change, NN), (but, CC), (...</td>\n",
       "      <td>adam brooke generation change banter discussion bell bottom record player memory discussion mom girl i bell bottom t...</td>\n",
       "    </tr>\n",
       "    <tr>\n",
       "      <th>759771</th>\n",
       "      <td>[(holly, RB), (and, CC), (her, PRP$), (guest, NN), (share, NN), (inspiring, VBG), (and, CC), (actionable, JJ), (less...</td>\n",
       "      <td>guest share lesson leader business hr life hr knowledge mindset team business</td>\n",
       "    </tr>\n",
       "  </tbody>\n",
       "</table>\n",
       "</div>"
      ],
      "text/plain": [
       "                                                                                                                     cont_clean  \\\n",
       "873185  [(we, PRP), (listen, VBP), (closely, RB), (case, NN), (of, IN), (murder, NN), (and, CC), (loss, NN), (going, VBG), (...   \n",
       "694914  [(love, VB), (adam, NN), (brooke, NN), (so, RB), (true, JJ), (the, DT), (generation, NN), (change, NN), (but, CC), (...   \n",
       "759771  [(holly, RB), (and, CC), (her, PRP$), (guest, NN), (share, NN), (inspiring, VBG), (and, CC), (actionable, JJ), (less...   \n",
       "\n",
       "                                                                                                                          nouns  \n",
       "873185                                                                            case murder loss crime stella portland oregon  \n",
       "694914  adam brooke generation change banter discussion bell bottom record player memory discussion mom girl i bell bottom t...  \n",
       "759771                                            guest share lesson leader business hr life hr knowledge mindset team business  "
      ]
     },
     "execution_count": 6,
     "metadata": {},
     "output_type": "execute_result"
    }
   ],
   "source": [
    "text_tagged.head(3)"
   ]
  },
  {
   "cell_type": "code",
   "execution_count": 8,
   "id": "ethical-stability",
   "metadata": {},
   "outputs": [],
   "source": [
    "from sklearn.feature_extraction import text\n",
    "\n",
    "more_sws = [\"podcast\", \"podcasts\", \"wa\", \"thank\", \"thanks\", \"way\",\n",
    "            \"im\", \"ive\", \"ha\", \"guy\", \"pod\", \"people\", \n",
    "            \"wait\", \"fan\", \"thing\", \"stuff\", \"listen\", \"listener\",\n",
    "            \"listening\", \"youre\", \"lot\", \"dont\", \"love\", \"havent\",\n",
    "            \"yall\", \"ton\", \"word\", \"talk\", \"hi\", \"wow\",\n",
    "            \"episode\", \"whats\"]\n",
    "stop_words = text.ENGLISH_STOP_WORDS.union(more_sws)"
   ]
  },
  {
   "cell_type": "code",
   "execution_count": 9,
   "id": "eligible-oregon",
   "metadata": {},
   "outputs": [
    {
     "data": {
      "text/plain": [
       "<107445x19235 sparse matrix of type '<class 'numpy.float64'>'\n",
       "\twith 721697 stored elements in Compressed Sparse Row format>"
      ]
     },
     "execution_count": 9,
     "metadata": {},
     "output_type": "execute_result"
    }
   ],
   "source": [
    "tf_idfn = TfidfVectorizer(max_df=0.95, min_df=2, stop_words=stop_words)\n",
    "dtm_tfidfn = tf_idfn.fit_transform(text_tagged[\"nouns\"])\n",
    "dtm_tfidfn"
   ]
  },
  {
   "cell_type": "markdown",
   "id": "progressive-latitude",
   "metadata": {},
   "source": [
    "### Topic modeling with Latent Dirichlet Allocation (LDA) using nouns and adjetives, TF-IDF:"
   ]
  },
  {
   "cell_type": "code",
   "execution_count": 10,
   "id": "turned-classification",
   "metadata": {},
   "outputs": [],
   "source": [
    "def topics_lda(cv, dtm, topic=2, passes=10):\n",
    "    \"\"\"Performs topic modeling with latent dirichlet allocation with a document term matrix.\n",
    "       Parameters: \n",
    "       (1) cv = vectorizer\n",
    "       (2) dmt = document term matrix\n",
    "       (3) topic = number of topic\n",
    "       Returns: Top ten words associate with each topic.\n",
    "    \"\"\"\n",
    "    #create the gensim corpus\n",
    "    corpus = matutils.Sparse2Corpus(dtm.transpose())\n",
    "    \n",
    "    #create the vocabulary dictionary\n",
    "    id2word = dict((v, k) for k, v in cv.vocabulary_.items())\n",
    "    \n",
    "    lda = models.LdaModel(corpus=corpus, num_topics=topic, id2word=id2word, passes=passes)\n",
    "    return lda.print_topics()"
   ]
  },
  {
   "cell_type": "code",
   "execution_count": 12,
   "id": "tribal-necklace",
   "metadata": {},
   "outputs": [
    {
     "data": {
      "text/plain": [
       "[(0,\n",
       "  '0.028*\"episode\" + 0.017*\"story\" + 0.015*\"time\" + 0.012*\"host\" + 0.012*\"work\" + 0.011*\"week\" + 0.010*\"topic\" + 0.009*\"fun\" + 0.009*\"friend\" + 0.007*\"content\"'),\n",
       " (1,\n",
       "  '0.015*\"life\" + 0.008*\"information\" + 0.008*\"world\" + 0.008*\"interview\" + 0.008*\"day\" + 0.008*\"guest\" + 0.007*\"year\" + 0.007*\"business\" + 0.006*\"job\" + 0.006*\"question\"')]"
      ]
     },
     "execution_count": 12,
     "metadata": {},
     "output_type": "execute_result"
    }
   ],
   "source": [
    "topics_lda(tf_idfn, dtm_tfidfn, topic=2)"
   ]
  },
  {
   "cell_type": "code",
   "execution_count": 13,
   "id": "multiple-strand",
   "metadata": {},
   "outputs": [
    {
     "data": {
      "text/plain": [
       "[(0,\n",
       "  '0.030*\"episode\" + 0.017*\"time\" + 0.016*\"story\" + 0.013*\"life\" + 0.010*\"movie\" + 0.009*\"friend\" + 0.008*\"fun\" + 0.008*\"book\" + 0.007*\"woman\" + 0.007*\"god\"'),\n",
       " (1,\n",
       "  '0.017*\"host\" + 0.014*\"topic\" + 0.013*\"content\" + 0.013*\"episode\" + 0.011*\"star\" + 0.011*\"music\" + 0.010*\"story\" + 0.010*\"interview\" + 0.010*\"guest\" + 0.009*\"time\"'),\n",
       " (2,\n",
       "  '0.016*\"work\" + 0.009*\"view\" + 0.008*\"funny\" + 0.007*\"concept\" + 0.007*\"wow\" + 0.006*\"glad\" + 0.005*\"subscribe\" + 0.005*\"sport\" + 0.005*\"point\" + 0.004*\"politics\"'),\n",
       " (3,\n",
       "  '0.012*\"information\" + 0.012*\"business\" + 0.011*\"day\" + 0.011*\"life\" + 0.010*\"episode\" + 0.009*\"advice\" + 0.009*\"week\" + 0.008*\"year\" + 0.008*\"time\" + 0.007*\"work\"')]"
      ]
     },
     "execution_count": 13,
     "metadata": {},
     "output_type": "execute_result"
    }
   ],
   "source": [
    "topics_lda(tf_idfn, dtm_tfidfn, topic=4)"
   ]
  },
  {
   "cell_type": "code",
   "execution_count": 14,
   "id": "postal-electric",
   "metadata": {},
   "outputs": [
    {
     "data": {
      "text/plain": [
       "[(0,\n",
       "  '0.016*\"star\" + 0.009*\"artist\" + 0.008*\"ad\" + 0.007*\"boy\" + 0.006*\"recommendation\" + 0.006*\"blessing\" + 0.006*\"art\" + 0.005*\"dad\" + 0.005*\"men\" + 0.005*\"lady\"'),\n",
       " (1,\n",
       "  '0.030*\"episode\" + 0.017*\"time\" + 0.008*\"season\" + 0.007*\"story\" + 0.007*\"world\" + 0.005*\"life\" + 0.005*\"host\" + 0.005*\"work\" + 0.005*\"star\" + 0.005*\"year\"'),\n",
       " (2,\n",
       "  '0.021*\"life\" + 0.017*\"work\" + 0.011*\"episode\" + 0.011*\"year\" + 0.011*\"god\" + 0.009*\"family\" + 0.008*\"woman\" + 0.008*\"time\" + 0.008*\"story\" + 0.008*\"day\"'),\n",
       " (3,\n",
       "  '0.018*\"day\" + 0.010*\"youtube\" + 0.008*\"history\" + 0.008*\"morning\" + 0.008*\"hi\" + 0.007*\"commute\" + 0.007*\"laugh\" + 0.007*\"video\" + 0.007*\"episode\" + 0.006*\"dog\"'),\n",
       " (4,\n",
       "  '0.015*\"episode\" + 0.014*\"week\" + 0.013*\"fun\" + 0.012*\"movie\" + 0.010*\"time\" + 0.010*\"friend\" + 0.010*\"story\" + 0.010*\"music\" + 0.009*\"host\" + 0.008*\"review\"'),\n",
       " (5,\n",
       "  '0.018*\"content\" + 0.018*\"topic\" + 0.018*\"host\" + 0.018*\"story\" + 0.017*\"guest\" + 0.016*\"information\" + 0.015*\"interview\" + 0.014*\"business\" + 0.013*\"episode\" + 0.011*\"job\"')]"
      ]
     },
     "execution_count": 14,
     "metadata": {},
     "output_type": "execute_result"
    }
   ],
   "source": [
    "topics_lda(tf_idfn, dtm_tfidfn, topic=6)"
   ]
  },
  {
   "cell_type": "code",
   "execution_count": 15,
   "id": "stock-stevens",
   "metadata": {},
   "outputs": [
    {
     "data": {
      "text/plain": [
       "[(0,\n",
       "  '0.012*\"year\" + 0.011*\"kid\" + 0.009*\"episode\" + 0.009*\"story\" + 0.008*\"family\" + 0.008*\"night\" + 0.007*\"ministry\" + 0.007*\"wish\" + 0.007*\"child\" + 0.007*\"parent\"'),\n",
       " (1,\n",
       "  '0.018*\"movie\" + 0.012*\"content\" + 0.011*\"episode\" + 0.010*\"host\" + 0.009*\"chemistry\" + 0.008*\"time\" + 0.007*\"film\" + 0.007*\"topic\" + 0.007*\"opinion\" + 0.006*\"work\"'),\n",
       " (2,\n",
       "  '0.021*\"life\" + 0.013*\"business\" + 0.012*\"episode\" + 0.009*\"world\" + 0.009*\"share\" + 0.009*\"woman\" + 0.009*\"time\" + 0.009*\"story\" + 0.008*\"guest\" + 0.008*\"interview\"'),\n",
       " (3,\n",
       "  '0.023*\"time\" + 0.012*\"episode\" + 0.012*\"season\" + 0.010*\"history\" + 0.009*\"story\" + 0.008*\"quality\" + 0.006*\"ad\" + 0.006*\"series\" + 0.006*\"work\" + 0.006*\"content\"'),\n",
       " (4,\n",
       "  '0.013*\"music\" + 0.010*\"funny\" + 0.010*\"hi\" + 0.007*\"jesus\" + 0.007*\"lord\" + 0.006*\"dog\" + 0.006*\"sex\" + 0.006*\"band\" + 0.006*\"breath\" + 0.006*\"air\"'),\n",
       " (5,\n",
       "  '0.016*\"information\" + 0.011*\"episode\" + 0.008*\"stop\" + 0.007*\"host\" + 0.007*\"point\" + 0.006*\"estate\" + 0.006*\"time\" + 0.006*\"idea\" + 0.006*\"joe\" + 0.006*\"topic\"'),\n",
       " (6,\n",
       "  '0.051*\"episode\" + 0.027*\"work\" + 0.022*\"week\" + 0.021*\"day\" + 0.018*\"topic\" + 0.017*\"fun\" + 0.015*\"friend\" + 0.013*\"time\" + 0.011*\"conversation\" + 0.010*\"story\"'),\n",
       " (7,\n",
       "  '0.027*\"story\" + 0.022*\"star\" + 0.015*\"host\" + 0.009*\"wow\" + 0.009*\"sport\" + 0.009*\"war\" + 0.009*\"game\" + 0.008*\"review\" + 0.008*\"episode\" + 0.008*\"whats\"')]"
      ]
     },
     "execution_count": 15,
     "metadata": {},
     "output_type": "execute_result"
    }
   ],
   "source": [
    "topics_lda(tf_idfn, dtm_tfidfn, topic=8)"
   ]
  },
  {
   "cell_type": "code",
   "execution_count": null,
   "id": "forty-radius",
   "metadata": {},
   "outputs": [],
   "source": []
  },
  {
   "cell_type": "markdown",
   "id": "south-flush",
   "metadata": {},
   "source": [
    "### Sentiment Analysis: input is corpus becuase order of words matters"
   ]
  },
  {
   "cell_type": "code",
   "execution_count": 16,
   "id": "exact-header",
   "metadata": {},
   "outputs": [],
   "source": [
    "from textblob import TextBlob\n",
    "import pandas as pd\n",
    "import pickle"
   ]
  },
  {
   "cell_type": "code",
   "execution_count": 17,
   "id": "economic-minimum",
   "metadata": {},
   "outputs": [],
   "source": [
    "df_clean = pd.read_pickle(\"data/df_100k_clean.pkl\")"
   ]
  },
  {
   "cell_type": "code",
   "execution_count": 18,
   "id": "virtual-madagascar",
   "metadata": {
    "scrolled": true
   },
   "outputs": [
    {
     "data": {
      "text/html": [
       "<div>\n",
       "<style scoped>\n",
       "    .dataframe tbody tr th:only-of-type {\n",
       "        vertical-align: middle;\n",
       "    }\n",
       "\n",
       "    .dataframe tbody tr th {\n",
       "        vertical-align: top;\n",
       "    }\n",
       "\n",
       "    .dataframe thead th {\n",
       "        text-align: right;\n",
       "    }\n",
       "</style>\n",
       "<table border=\"1\" class=\"dataframe\">\n",
       "  <thead>\n",
       "    <tr style=\"text-align: right;\">\n",
       "      <th></th>\n",
       "      <th>podcast_id</th>\n",
       "      <th>review_title</th>\n",
       "      <th>content</th>\n",
       "      <th>rating</th>\n",
       "      <th>created_at</th>\n",
       "      <th>category</th>\n",
       "      <th>podcast_title</th>\n",
       "      <th>cont_clean</th>\n",
       "    </tr>\n",
       "  </thead>\n",
       "  <tbody>\n",
       "    <tr>\n",
       "      <th>873185</th>\n",
       "      <td>a9bdaba5449189a4587793e36ce4f704</td>\n",
       "      <td>A True Crime Haiku for you</td>\n",
       "      <td>We listen closely,\\nCases of Murder and Loss\\nGoing West : True Crime\\n\\nStella\\nPortland, Oregon</td>\n",
       "      <td>5</td>\n",
       "      <td>2019-10-10T15:19:20-07:00</td>\n",
       "      <td>society-culture</td>\n",
       "      <td>Going West: True Crime</td>\n",
       "      <td>we listen closely case of murder and loss going west true crime stella portland oregon</td>\n",
       "    </tr>\n",
       "    <tr>\n",
       "      <th>694914</th>\n",
       "      <td>c699968fd592a60c3ba7333d530907d7</td>\n",
       "      <td>Engaging in my 60's</td>\n",
       "      <td>Love Adam &amp; Brooke! So true, the generations change, but they do recycle. I love the banter and found the discussion...</td>\n",
       "      <td>5</td>\n",
       "      <td>2018-12-31T04:22:13-07:00</td>\n",
       "      <td>comedy</td>\n",
       "      <td>Thirty, Flirty, &amp; Dying</td>\n",
       "      <td>love adam brooke so true the generation change but they do recycle i love the banter and found the discussion of bel...</td>\n",
       "    </tr>\n",
       "    <tr>\n",
       "      <th>759771</th>\n",
       "      <td>dcfb90baae108f9938fd3a762b810cc3</td>\n",
       "      <td>Highly recommend!</td>\n",
       "      <td>Holly and her guests share inspiring and actionable lessons on how to succeed as a leader in business, HR, and life....</td>\n",
       "      <td>5</td>\n",
       "      <td>2017-09-11T07:05:53-07:00</td>\n",
       "      <td>business</td>\n",
       "      <td>Nine To Thrive HR</td>\n",
       "      <td>holly and her guest share inspiring and actionable lesson on how to succeed a a leader in business hr and life highl...</td>\n",
       "    </tr>\n",
       "  </tbody>\n",
       "</table>\n",
       "</div>"
      ],
      "text/plain": [
       "                              podcast_id                review_title  \\\n",
       "873185  a9bdaba5449189a4587793e36ce4f704  A True Crime Haiku for you   \n",
       "694914  c699968fd592a60c3ba7333d530907d7         Engaging in my 60's   \n",
       "759771  dcfb90baae108f9938fd3a762b810cc3           Highly recommend!   \n",
       "\n",
       "                                                                                                                        content  \\\n",
       "873185                        We listen closely,\\nCases of Murder and Loss\\nGoing West : True Crime\\n\\nStella\\nPortland, Oregon   \n",
       "694914  Love Adam & Brooke! So true, the generations change, but they do recycle. I love the banter and found the discussion...   \n",
       "759771  Holly and her guests share inspiring and actionable lessons on how to succeed as a leader in business, HR, and life....   \n",
       "\n",
       "        rating                 created_at         category  \\\n",
       "873185       5  2019-10-10T15:19:20-07:00  society-culture   \n",
       "694914       5  2018-12-31T04:22:13-07:00           comedy   \n",
       "759771       5  2017-09-11T07:05:53-07:00         business   \n",
       "\n",
       "                  podcast_title  \\\n",
       "873185   Going West: True Crime   \n",
       "694914  Thirty, Flirty, & Dying   \n",
       "759771        Nine To Thrive HR   \n",
       "\n",
       "                                                                                                                     cont_clean  \n",
       "873185                                   we listen closely case of murder and loss going west true crime stella portland oregon  \n",
       "694914  love adam brooke so true the generation change but they do recycle i love the banter and found the discussion of bel...  \n",
       "759771  holly and her guest share inspiring and actionable lesson on how to succeed a a leader in business hr and life highl...  "
      ]
     },
     "execution_count": 18,
     "metadata": {},
     "output_type": "execute_result"
    }
   ],
   "source": [
    "df_clean.head(3)"
   ]
  },
  {
   "cell_type": "code",
   "execution_count": 19,
   "id": "peaceful-wells",
   "metadata": {},
   "outputs": [
    {
     "data": {
      "text/plain": [
       "5    94549\n",
       "1     5025\n",
       "4     3307\n",
       "3     2402\n",
       "2     2162\n",
       "Name: rating, dtype: int64"
      ]
     },
     "execution_count": 19,
     "metadata": {},
     "output_type": "execute_result"
    }
   ],
   "source": [
    "df_clean[\"rating\"].value_counts()"
   ]
  },
  {
   "cell_type": "code",
   "execution_count": 20,
   "id": "everyday-seattle",
   "metadata": {
    "scrolled": true
   },
   "outputs": [
    {
     "data": {
      "text/html": [
       "<div>\n",
       "<style scoped>\n",
       "    .dataframe tbody tr th:only-of-type {\n",
       "        vertical-align: middle;\n",
       "    }\n",
       "\n",
       "    .dataframe tbody tr th {\n",
       "        vertical-align: top;\n",
       "    }\n",
       "\n",
       "    .dataframe thead th {\n",
       "        text-align: right;\n",
       "    }\n",
       "</style>\n",
       "<table border=\"1\" class=\"dataframe\">\n",
       "  <thead>\n",
       "    <tr style=\"text-align: right;\">\n",
       "      <th></th>\n",
       "      <th>podcast_id</th>\n",
       "      <th>review_title</th>\n",
       "      <th>content</th>\n",
       "      <th>rating</th>\n",
       "      <th>created_at</th>\n",
       "      <th>category</th>\n",
       "      <th>podcast_title</th>\n",
       "      <th>cont_clean</th>\n",
       "      <th>polarity</th>\n",
       "    </tr>\n",
       "  </thead>\n",
       "  <tbody>\n",
       "    <tr>\n",
       "      <th>873185</th>\n",
       "      <td>a9bdaba5449189a4587793e36ce4f704</td>\n",
       "      <td>A True Crime Haiku for you</td>\n",
       "      <td>We listen closely,\\nCases of Murder and Loss\\nGoing West : True Crime\\n\\nStella\\nPortland, Oregon</td>\n",
       "      <td>5</td>\n",
       "      <td>2019-10-10T15:19:20-07:00</td>\n",
       "      <td>society-culture</td>\n",
       "      <td>Going West: True Crime</td>\n",
       "      <td>we listen closely case of murder and loss going west true crime stella portland oregon</td>\n",
       "      <td>0.350000</td>\n",
       "    </tr>\n",
       "    <tr>\n",
       "      <th>694914</th>\n",
       "      <td>c699968fd592a60c3ba7333d530907d7</td>\n",
       "      <td>Engaging in my 60's</td>\n",
       "      <td>Love Adam &amp; Brooke! So true, the generations change, but they do recycle. I love the banter and found the discussion...</td>\n",
       "      <td>5</td>\n",
       "      <td>2018-12-31T04:22:13-07:00</td>\n",
       "      <td>comedy</td>\n",
       "      <td>Thirty, Flirty, &amp; Dying</td>\n",
       "      <td>love adam brooke so true the generation change but they do recycle i love the banter and found the discussion of bel...</td>\n",
       "      <td>0.321875</td>\n",
       "    </tr>\n",
       "    <tr>\n",
       "      <th>759771</th>\n",
       "      <td>dcfb90baae108f9938fd3a762b810cc3</td>\n",
       "      <td>Highly recommend!</td>\n",
       "      <td>Holly and her guests share inspiring and actionable lessons on how to succeed as a leader in business, HR, and life....</td>\n",
       "      <td>5</td>\n",
       "      <td>2017-09-11T07:05:53-07:00</td>\n",
       "      <td>business</td>\n",
       "      <td>Nine To Thrive HR</td>\n",
       "      <td>holly and her guest share inspiring and actionable lesson on how to succeed a a leader in business hr and life highl...</td>\n",
       "      <td>0.553333</td>\n",
       "    </tr>\n",
       "  </tbody>\n",
       "</table>\n",
       "</div>"
      ],
      "text/plain": [
       "                              podcast_id                review_title  \\\n",
       "873185  a9bdaba5449189a4587793e36ce4f704  A True Crime Haiku for you   \n",
       "694914  c699968fd592a60c3ba7333d530907d7         Engaging in my 60's   \n",
       "759771  dcfb90baae108f9938fd3a762b810cc3           Highly recommend!   \n",
       "\n",
       "                                                                                                                        content  \\\n",
       "873185                        We listen closely,\\nCases of Murder and Loss\\nGoing West : True Crime\\n\\nStella\\nPortland, Oregon   \n",
       "694914  Love Adam & Brooke! So true, the generations change, but they do recycle. I love the banter and found the discussion...   \n",
       "759771  Holly and her guests share inspiring and actionable lessons on how to succeed as a leader in business, HR, and life....   \n",
       "\n",
       "        rating                 created_at         category  \\\n",
       "873185       5  2019-10-10T15:19:20-07:00  society-culture   \n",
       "694914       5  2018-12-31T04:22:13-07:00           comedy   \n",
       "759771       5  2017-09-11T07:05:53-07:00         business   \n",
       "\n",
       "                  podcast_title  \\\n",
       "873185   Going West: True Crime   \n",
       "694914  Thirty, Flirty, & Dying   \n",
       "759771        Nine To Thrive HR   \n",
       "\n",
       "                                                                                                                     cont_clean  \\\n",
       "873185                                   we listen closely case of murder and loss going west true crime stella portland oregon   \n",
       "694914  love adam brooke so true the generation change but they do recycle i love the banter and found the discussion of bel...   \n",
       "759771  holly and her guest share inspiring and actionable lesson on how to succeed a a leader in business hr and life highl...   \n",
       "\n",
       "        polarity  \n",
       "873185  0.350000  \n",
       "694914  0.321875  \n",
       "759771  0.553333  "
      ]
     },
     "execution_count": 20,
     "metadata": {},
     "output_type": "execute_result"
    }
   ],
   "source": [
    "pol = lambda x: TextBlob(x).sentiment.polarity\n",
    "df_clean[\"polarity\"] = df_clean[\"content\"].apply(pol)\n",
    "\n",
    "df_clean.head(3)"
   ]
  },
  {
   "cell_type": "code",
   "execution_count": 21,
   "id": "interior-union",
   "metadata": {},
   "outputs": [
    {
     "name": "stdout",
     "output_type": "stream",
     "text": [
      "Review:  There are much better podcasts out there that focus just on good paranormal stories. \n",
      "\n",
      "Review:  So “even someone from Alabama can teach you something “ (Teachability episode). Impressive statement during a time of division and hatred in our country. Good luck. \n",
      "\n",
      "Review:  Either he’s promoting his own products, or has a guest promoting theirs (and provides his own “discount” promo code for guests products)\n",
      "\n",
      "Monotone soliloquy \n",
      "\n"
     ]
    }
   ],
   "source": [
    "pos = (df_clean[\"polarity\"] > 0)\n",
    "df_clean[pos].value_counts(\"rating\")\n",
    "\n",
    "#check review with positive polarity, but low rating\n",
    "mask = (df_clean[\"polarity\"] > 0.5) & (df_clean[\"rating\"] == 1)\n",
    "for i in df_clean[mask][\"content\"][:3]:\n",
    "    print(\"Review: \", i, \"\\n\")"
   ]
  },
  {
   "cell_type": "code",
   "execution_count": 22,
   "id": "herbal-hormone",
   "metadata": {},
   "outputs": [
    {
     "data": {
      "text/plain": [
       "rating\n",
       "5    3827\n",
       "1    1919\n",
       "2     609\n",
       "3     469\n",
       "4     287\n",
       "dtype: int64"
      ]
     },
     "execution_count": 22,
     "metadata": {},
     "output_type": "execute_result"
    }
   ],
   "source": [
    "#rating distribution of reviews with negative polarity\n",
    "neg = (df_clean[\"polarity\"] < 0)\n",
    "df_clean[neg].value_counts(\"rating\")"
   ]
  },
  {
   "cell_type": "markdown",
   "id": "pacific-insert",
   "metadata": {},
   "source": [
    "### ^ Polarity doesn't seem to match well with rating scores for a good portion of the reviews...hmmm..."
   ]
  },
  {
   "cell_type": "code",
   "execution_count": null,
   "id": "overall-imagination",
   "metadata": {},
   "outputs": [],
   "source": []
  }
 ],
 "metadata": {
  "kernelspec": {
   "display_name": "Python [conda env:metis]",
   "language": "python",
   "name": "conda-env-metis-py"
  },
  "language_info": {
   "codemirror_mode": {
    "name": "ipython",
    "version": 3
   },
   "file_extension": ".py",
   "mimetype": "text/x-python",
   "name": "python",
   "nbconvert_exporter": "python",
   "pygments_lexer": "ipython3",
   "version": "3.8.6"
  }
 },
 "nbformat": 4,
 "nbformat_minor": 5
}
