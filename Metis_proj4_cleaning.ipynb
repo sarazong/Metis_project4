{
 "cells": [
  {
   "cell_type": "markdown",
   "id": "nuclear-leather",
   "metadata": {},
   "source": [
    "### Read in data from the sql database:"
   ]
  },
  {
   "cell_type": "code",
   "execution_count": 1,
   "id": "regular-massage",
   "metadata": {},
   "outputs": [],
   "source": [
    "import numpy as np\n",
    "import pandas as pd\n",
    "import matplotlib.pyplot as plt\n",
    "import re\n",
    "import sqlite3\n",
    "%matplotlib inline"
   ]
  },
  {
   "cell_type": "code",
   "execution_count": 2,
   "id": "becoming-bunny",
   "metadata": {},
   "outputs": [],
   "source": [
    "conn = sqlite3.connect(\"data/podcast.sqlite\")"
   ]
  },
  {
   "cell_type": "code",
   "execution_count": 3,
   "id": "foreign-constitution",
   "metadata": {},
   "outputs": [],
   "source": [
    "#define a function to check out the data tables in the database\n",
    "def table_columns(conn, table_name):\n",
    "    \"\"\"Obtains variable names in the data table.\n",
    "       Parameters: (1) conn is the connection to the database \n",
    "                   (2) table_name is a string containing the table name of interest\n",
    "       Returns: column names\n",
    "    \"\"\"\n",
    "    cur = conn.cursor()\n",
    "    sql = \"SELECT * FROM %s WHERE 1=0;\" % table_name\n",
    "    cur.execute(sql)\n",
    "    #cursor.description is column description\n",
    "    return [d[0] for d in cur.description]"
   ]
  },
  {
   "cell_type": "code",
   "execution_count": 4,
   "id": "aboriginal-circumstances",
   "metadata": {},
   "outputs": [],
   "source": [
    "#define a function to retrieve data from the table\n",
    "def get_table(conn, table_name):\n",
    "    \"\"\"Obtains all the observations from the data table.\n",
    "       Parameters: (1) conn is the connection to the database \n",
    "                   (2) table_name is a string containing the table name of interest\n",
    "       Returns: a dataframe \n",
    "    \"\"\"\n",
    "    df = pd.read_sql(\"SELECT * FROM %s\" % table_name, conn)\n",
    "    return df"
   ]
  },
  {
   "cell_type": "code",
   "execution_count": 5,
   "id": "careful-album",
   "metadata": {
    "scrolled": true
   },
   "outputs": [
    {
     "data": {
      "text/plain": [
       "['podcast_id', 'title', 'content', 'rating', 'created_at']"
      ]
     },
     "execution_count": 5,
     "metadata": {},
     "output_type": "execute_result"
    }
   ],
   "source": [
    "table_columns(conn, \"reviews\")"
   ]
  },
  {
   "cell_type": "code",
   "execution_count": 6,
   "id": "chinese-brief",
   "metadata": {},
   "outputs": [],
   "source": [
    "reviews = get_table(conn, \"reviews\")\n",
    "reviews.rename(columns={\"title\":\"review_title\"}, inplace=True)"
   ]
  },
  {
   "cell_type": "code",
   "execution_count": 7,
   "id": "graduate-merchandise",
   "metadata": {
    "scrolled": true
   },
   "outputs": [
    {
     "name": "stdout",
     "output_type": "stream",
     "text": [
      "<class 'pandas.core.frame.DataFrame'>\n",
      "RangeIndex: 1162840 entries, 0 to 1162839\n",
      "Data columns (total 5 columns):\n",
      " #   Column        Non-Null Count    Dtype \n",
      "---  ------        --------------    ----- \n",
      " 0   podcast_id    1162840 non-null  object\n",
      " 1   review_title  1162840 non-null  object\n",
      " 2   content       1162840 non-null  object\n",
      " 3   rating        1162840 non-null  int64 \n",
      " 4   created_at    1162840 non-null  object\n",
      "dtypes: int64(1), object(4)\n",
      "memory usage: 44.4+ MB\n"
     ]
    }
   ],
   "source": [
    "reviews.info()"
   ]
  },
  {
   "cell_type": "code",
   "execution_count": 8,
   "id": "mysterious-federal",
   "metadata": {
    "scrolled": true
   },
   "outputs": [
    {
     "data": {
      "text/html": [
       "<div>\n",
       "<style scoped>\n",
       "    .dataframe tbody tr th:only-of-type {\n",
       "        vertical-align: middle;\n",
       "    }\n",
       "\n",
       "    .dataframe tbody tr th {\n",
       "        vertical-align: top;\n",
       "    }\n",
       "\n",
       "    .dataframe thead th {\n",
       "        text-align: right;\n",
       "    }\n",
       "</style>\n",
       "<table border=\"1\" class=\"dataframe\">\n",
       "  <thead>\n",
       "    <tr style=\"text-align: right;\">\n",
       "      <th></th>\n",
       "      <th>podcast_id</th>\n",
       "      <th>review_title</th>\n",
       "      <th>content</th>\n",
       "      <th>rating</th>\n",
       "      <th>created_at</th>\n",
       "    </tr>\n",
       "  </thead>\n",
       "  <tbody>\n",
       "    <tr>\n",
       "      <th>265492</th>\n",
       "      <td>bad6c91efdbee814db985c7a65199604</td>\n",
       "      <td>Wow in the world</td>\n",
       "      <td>Wow in the world is so much fun to listen to!!!</td>\n",
       "      <td>5</td>\n",
       "      <td>2019-07-03T04:38:23-07:00</td>\n",
       "    </tr>\n",
       "    <tr>\n",
       "      <th>265546</th>\n",
       "      <td>bad6c91efdbee814db985c7a65199604</td>\n",
       "      <td>Wow in the world</td>\n",
       "      <td>I loooooooooooooooooooooooooooove you’re podca...</td>\n",
       "      <td>5</td>\n",
       "      <td>2019-06-24T07:03:22-07:00</td>\n",
       "    </tr>\n",
       "    <tr>\n",
       "      <th>265564</th>\n",
       "      <td>bad6c91efdbee814db985c7a65199604</td>\n",
       "      <td>Wow in the world</td>\n",
       "      <td>WoW it is my fav podcast 😄🤪🤩</td>\n",
       "      <td>5</td>\n",
       "      <td>2019-06-23T18:23:48-07:00</td>\n",
       "    </tr>\n",
       "    <tr>\n",
       "      <th>265605</th>\n",
       "      <td>bad6c91efdbee814db985c7a65199604</td>\n",
       "      <td>Wow in the world</td>\n",
       "      <td>I  think wow in the world is so fun and so cre...</td>\n",
       "      <td>5</td>\n",
       "      <td>2019-06-09T06:53:58-07:00</td>\n",
       "    </tr>\n",
       "    <tr>\n",
       "      <th>265634</th>\n",
       "      <td>bad6c91efdbee814db985c7a65199604</td>\n",
       "      <td>Wow in the world</td>\n",
       "      <td>I love this show, I cannot stop listening to t...</td>\n",
       "      <td>5</td>\n",
       "      <td>2019-05-29T05:50:40-07:00</td>\n",
       "    </tr>\n",
       "    <tr>\n",
       "      <th>...</th>\n",
       "      <td>...</td>\n",
       "      <td>...</td>\n",
       "      <td>...</td>\n",
       "      <td>...</td>\n",
       "      <td>...</td>\n",
       "    </tr>\n",
       "    <tr>\n",
       "      <th>1134553</th>\n",
       "      <td>bad6c91efdbee814db985c7a65199604</td>\n",
       "      <td>Wow in the world</td>\n",
       "      <td>WOW IN THE WORLD IS THE BEST PODCAST IN THE WO...</td>\n",
       "      <td>5</td>\n",
       "      <td>2020-12-19T23:34:08-07:00</td>\n",
       "    </tr>\n",
       "    <tr>\n",
       "      <th>1136000</th>\n",
       "      <td>bad6c91efdbee814db985c7a65199604</td>\n",
       "      <td>Wow in the world</td>\n",
       "      <td>I am so glad y’all r making new episodes but m...</td>\n",
       "      <td>5</td>\n",
       "      <td>2020-12-22T19:59:10-07:00</td>\n",
       "    </tr>\n",
       "    <tr>\n",
       "      <th>1159175</th>\n",
       "      <td>bad6c91efdbee814db985c7a65199604</td>\n",
       "      <td>Wow in the world</td>\n",
       "      <td>OMG this is the best podcast ever!!!!🙂 I love it.</td>\n",
       "      <td>5</td>\n",
       "      <td>2021-01-29T16:46:49-07:00</td>\n",
       "    </tr>\n",
       "    <tr>\n",
       "      <th>1159270</th>\n",
       "      <td>bad6c91efdbee814db985c7a65199604</td>\n",
       "      <td>Wow in the world</td>\n",
       "      <td>Soooooooooo awesome!!!!!! I wished you could m...</td>\n",
       "      <td>5</td>\n",
       "      <td>2021-01-29T20:46:41-07:00</td>\n",
       "    </tr>\n",
       "    <tr>\n",
       "      <th>1159359</th>\n",
       "      <td>bad6c91efdbee814db985c7a65199604</td>\n",
       "      <td>Wow in the world</td>\n",
       "      <td>Soooooooooo awesome!!!!!! I wished you could m...</td>\n",
       "      <td>5</td>\n",
       "      <td>2021-01-29T20:46:41-07:00</td>\n",
       "    </tr>\n",
       "  </tbody>\n",
       "</table>\n",
       "<p>61 rows × 5 columns</p>\n",
       "</div>"
      ],
      "text/plain": [
       "                               podcast_id      review_title  \\\n",
       "265492   bad6c91efdbee814db985c7a65199604  Wow in the world   \n",
       "265546   bad6c91efdbee814db985c7a65199604  Wow in the world   \n",
       "265564   bad6c91efdbee814db985c7a65199604  Wow in the world   \n",
       "265605   bad6c91efdbee814db985c7a65199604  Wow in the world   \n",
       "265634   bad6c91efdbee814db985c7a65199604  Wow in the world   \n",
       "...                                   ...               ...   \n",
       "1134553  bad6c91efdbee814db985c7a65199604  Wow in the world   \n",
       "1136000  bad6c91efdbee814db985c7a65199604  Wow in the world   \n",
       "1159175  bad6c91efdbee814db985c7a65199604  Wow in the world   \n",
       "1159270  bad6c91efdbee814db985c7a65199604  Wow in the world   \n",
       "1159359  bad6c91efdbee814db985c7a65199604  Wow in the world   \n",
       "\n",
       "                                                   content  rating  \\\n",
       "265492     Wow in the world is so much fun to listen to!!!       5   \n",
       "265546   I loooooooooooooooooooooooooooove you’re podca...       5   \n",
       "265564                        WoW it is my fav podcast 😄🤪🤩       5   \n",
       "265605   I  think wow in the world is so fun and so cre...       5   \n",
       "265634   I love this show, I cannot stop listening to t...       5   \n",
       "...                                                    ...     ...   \n",
       "1134553  WOW IN THE WORLD IS THE BEST PODCAST IN THE WO...       5   \n",
       "1136000  I am so glad y’all r making new episodes but m...       5   \n",
       "1159175  OMG this is the best podcast ever!!!!🙂 I love it.       5   \n",
       "1159270  Soooooooooo awesome!!!!!! I wished you could m...       5   \n",
       "1159359  Soooooooooo awesome!!!!!! I wished you could m...       5   \n",
       "\n",
       "                        created_at  \n",
       "265492   2019-07-03T04:38:23-07:00  \n",
       "265546   2019-06-24T07:03:22-07:00  \n",
       "265564   2019-06-23T18:23:48-07:00  \n",
       "265605   2019-06-09T06:53:58-07:00  \n",
       "265634   2019-05-29T05:50:40-07:00  \n",
       "...                            ...  \n",
       "1134553  2020-12-19T23:34:08-07:00  \n",
       "1136000  2020-12-22T19:59:10-07:00  \n",
       "1159175  2021-01-29T16:46:49-07:00  \n",
       "1159270  2021-01-29T20:46:41-07:00  \n",
       "1159359  2021-01-29T20:46:41-07:00  \n",
       "\n",
       "[61 rows x 5 columns]"
      ]
     },
     "execution_count": 8,
     "metadata": {},
     "output_type": "execute_result"
    }
   ],
   "source": [
    "#spot check reviews, there are duplicates\n",
    "mask = (reviews.podcast_id == \"bad6c91efdbee814db985c7a65199604\") & (reviews.review_title == \"Wow in the world\")\n",
    "reviews[mask]"
   ]
  },
  {
   "cell_type": "code",
   "execution_count": 9,
   "id": "soviet-coordinate",
   "metadata": {},
   "outputs": [
    {
     "name": "stdout",
     "output_type": "stream",
     "text": [
      "521\n"
     ]
    }
   ],
   "source": [
    "#check number of duplicates in the reviews and drop the duplicates\n",
    "print(reviews.duplicated().sum())\n",
    "reviews = reviews.drop_duplicates()"
   ]
  },
  {
   "cell_type": "code",
   "execution_count": 10,
   "id": "excited-millennium",
   "metadata": {},
   "outputs": [
    {
     "data": {
      "text/plain": [
       "(1162319, 5)"
      ]
     },
     "execution_count": 10,
     "metadata": {},
     "output_type": "execute_result"
    }
   ],
   "source": [
    "reviews.shape"
   ]
  },
  {
   "cell_type": "code",
   "execution_count": 11,
   "id": "outstanding-theater",
   "metadata": {},
   "outputs": [
    {
     "data": {
      "text/plain": [
       "5    0.867504\n",
       "1    0.052833\n",
       "4    0.032797\n",
       "3    0.024898\n",
       "2    0.021968\n",
       "Name: rating, dtype: float64"
      ]
     },
     "execution_count": 11,
     "metadata": {},
     "output_type": "execute_result"
    }
   ],
   "source": [
    "#about 90% of the reviews have rating >= 4...imbalance\n",
    "reviews[\"rating\"].value_counts(\"rating\")"
   ]
  },
  {
   "cell_type": "markdown",
   "id": "waiting-absolute",
   "metadata": {},
   "source": [
    "### Load categories and podcasts tables and merge with reviews:"
   ]
  },
  {
   "cell_type": "code",
   "execution_count": 12,
   "id": "peripheral-mumbai",
   "metadata": {},
   "outputs": [
    {
     "data": {
      "text/plain": [
       "['podcast_id', 'category']"
      ]
     },
     "execution_count": 12,
     "metadata": {},
     "output_type": "execute_result"
    }
   ],
   "source": [
    "table_columns(conn, \"categories\")"
   ]
  },
  {
   "cell_type": "code",
   "execution_count": 13,
   "id": "constitutional-palmer",
   "metadata": {},
   "outputs": [
    {
     "data": {
      "text/html": [
       "<div>\n",
       "<style scoped>\n",
       "    .dataframe tbody tr th:only-of-type {\n",
       "        vertical-align: middle;\n",
       "    }\n",
       "\n",
       "    .dataframe tbody tr th {\n",
       "        vertical-align: top;\n",
       "    }\n",
       "\n",
       "    .dataframe thead th {\n",
       "        text-align: right;\n",
       "    }\n",
       "</style>\n",
       "<table border=\"1\" class=\"dataframe\">\n",
       "  <thead>\n",
       "    <tr style=\"text-align: right;\">\n",
       "      <th></th>\n",
       "      <th>podcast_id</th>\n",
       "      <th>category</th>\n",
       "    </tr>\n",
       "  </thead>\n",
       "  <tbody>\n",
       "    <tr>\n",
       "      <th>0</th>\n",
       "      <td>c61aa81c9b929a66f0c1db6cbe5d8548</td>\n",
       "      <td>arts</td>\n",
       "    </tr>\n",
       "    <tr>\n",
       "      <th>1</th>\n",
       "      <td>c61aa81c9b929a66f0c1db6cbe5d8548</td>\n",
       "      <td>arts-performing-arts</td>\n",
       "    </tr>\n",
       "    <tr>\n",
       "      <th>2</th>\n",
       "      <td>c61aa81c9b929a66f0c1db6cbe5d8548</td>\n",
       "      <td>music</td>\n",
       "    </tr>\n",
       "    <tr>\n",
       "      <th>3</th>\n",
       "      <td>ad4f2bf69c72b8db75978423c25f379e</td>\n",
       "      <td>arts</td>\n",
       "    </tr>\n",
       "    <tr>\n",
       "      <th>4</th>\n",
       "      <td>ad4f2bf69c72b8db75978423c25f379e</td>\n",
       "      <td>arts-design</td>\n",
       "    </tr>\n",
       "  </tbody>\n",
       "</table>\n",
       "</div>"
      ],
      "text/plain": [
       "                         podcast_id              category\n",
       "0  c61aa81c9b929a66f0c1db6cbe5d8548                  arts\n",
       "1  c61aa81c9b929a66f0c1db6cbe5d8548  arts-performing-arts\n",
       "2  c61aa81c9b929a66f0c1db6cbe5d8548                 music\n",
       "3  ad4f2bf69c72b8db75978423c25f379e                  arts\n",
       "4  ad4f2bf69c72b8db75978423c25f379e           arts-design"
      ]
     },
     "execution_count": 13,
     "metadata": {},
     "output_type": "execute_result"
    }
   ],
   "source": [
    "categories = get_table(conn, \"categories\")\n",
    "categories.head()"
   ]
  },
  {
   "cell_type": "code",
   "execution_count": 14,
   "id": "understood-cancer",
   "metadata": {},
   "outputs": [],
   "source": [
    "#some podcasts could belong to multiple categories\n",
    "#going to keep just the first one to avoid duplicating reviews when merge tables \n",
    "categories.podcast_id.value_counts().head()\n",
    "categories.drop_duplicates(subset=[\"podcast_id\"], inplace=True)"
   ]
  },
  {
   "cell_type": "code",
   "execution_count": 15,
   "id": "cloudy-norfolk",
   "metadata": {},
   "outputs": [
    {
     "data": {
      "text/plain": [
       "(46665, 2)"
      ]
     },
     "execution_count": 15,
     "metadata": {},
     "output_type": "execute_result"
    }
   ],
   "source": [
    "categories.shape"
   ]
  },
  {
   "cell_type": "code",
   "execution_count": 16,
   "id": "treated-former",
   "metadata": {},
   "outputs": [
    {
     "data": {
      "text/plain": [
       "['podcast_id', 'itunes_id', 'slug', 'itunes_url', 'title']"
      ]
     },
     "execution_count": 16,
     "metadata": {},
     "output_type": "execute_result"
    }
   ],
   "source": [
    "table_columns(conn, \"podcasts\")"
   ]
  },
  {
   "cell_type": "code",
   "execution_count": 17,
   "id": "liquid-greensboro",
   "metadata": {},
   "outputs": [],
   "source": [
    "podcasts = get_table(conn, \"podcasts\")\n",
    "podcasts.rename(columns={\"title\":\"podcast_title\"}, inplace=True)"
   ]
  },
  {
   "cell_type": "code",
   "execution_count": 18,
   "id": "demographic-baseline",
   "metadata": {},
   "outputs": [
    {
     "name": "stdout",
     "output_type": "stream",
     "text": [
      "<class 'pandas.core.frame.DataFrame'>\n",
      "RangeIndex: 46665 entries, 0 to 46664\n",
      "Data columns (total 5 columns):\n",
      " #   Column         Non-Null Count  Dtype \n",
      "---  ------         --------------  ----- \n",
      " 0   podcast_id     46665 non-null  object\n",
      " 1   itunes_id      46665 non-null  int64 \n",
      " 2   slug           46665 non-null  object\n",
      " 3   itunes_url     46665 non-null  object\n",
      " 4   podcast_title  46665 non-null  object\n",
      "dtypes: int64(1), object(4)\n",
      "memory usage: 1.8+ MB\n"
     ]
    }
   ],
   "source": [
    "podcasts.info()"
   ]
  },
  {
   "cell_type": "code",
   "execution_count": 19,
   "id": "vital-gauge",
   "metadata": {},
   "outputs": [],
   "source": [
    "from functools import reduce\n",
    "dfs = [reviews, categories, podcasts]\n",
    "df_master = reduce(lambda left,right: pd.merge(left,right,on=\"podcast_id\"), dfs)"
   ]
  },
  {
   "cell_type": "code",
   "execution_count": 20,
   "id": "applicable-northwest",
   "metadata": {},
   "outputs": [
    {
     "data": {
      "text/plain": [
       "(895376, 10)"
      ]
     },
     "execution_count": 20,
     "metadata": {},
     "output_type": "execute_result"
    }
   ],
   "source": [
    "#was expecting to have 1,162,319 entries, found some podcast_id in reviews don't exist in the other tables\n",
    "df_master.shape"
   ]
  },
  {
   "cell_type": "markdown",
   "id": "historical-minutes",
   "metadata": {},
   "source": [
    "### Get a random sample of ~100k from the dataset for text analysis:"
   ]
  },
  {
   "cell_type": "code",
   "execution_count": 21,
   "id": "corresponding-receiver",
   "metadata": {},
   "outputs": [],
   "source": [
    "import random\n",
    "rs = np.random.RandomState(11)\n",
    "sample = rs.choice(df_master.shape[0], size=int(df_master.shape[0] * 0.12), replace=False)\n",
    "\n",
    "df = df_master.iloc[sample] "
   ]
  },
  {
   "cell_type": "code",
   "execution_count": 22,
   "id": "painted-familiar",
   "metadata": {},
   "outputs": [
    {
     "name": "stdout",
     "output_type": "stream",
     "text": [
      "(107445, 10)\n"
     ]
    },
    {
     "data": {
      "text/plain": [
       "5    0.879976\n",
       "1    0.046768\n",
       "4    0.030779\n",
       "3    0.022356\n",
       "2    0.020122\n",
       "Name: rating, dtype: float64"
      ]
     },
     "execution_count": 22,
     "metadata": {},
     "output_type": "execute_result"
    }
   ],
   "source": [
    "print(df.shape)\n",
    "#checking review distribution by rating and compare to original review\n",
    "df[\"rating\"].value_counts(\"rating\")"
   ]
  },
  {
   "cell_type": "code",
   "execution_count": 23,
   "id": "finite-exhibition",
   "metadata": {
    "scrolled": true
   },
   "outputs": [
    {
     "data": {
      "text/plain": [
       "Index(['podcast_id', 'review_title', 'content', 'rating', 'created_at',\n",
       "       'category', 'itunes_id', 'slug', 'itunes_url', 'podcast_title'],\n",
       "      dtype='object')"
      ]
     },
     "execution_count": 23,
     "metadata": {},
     "output_type": "execute_result"
    }
   ],
   "source": [
    "df.columns"
   ]
  },
  {
   "cell_type": "code",
   "execution_count": 24,
   "id": "alike-collar",
   "metadata": {},
   "outputs": [
    {
     "data": {
      "text/plain": [
       "19830"
      ]
     },
     "execution_count": 24,
     "metadata": {},
     "output_type": "execute_result"
    }
   ],
   "source": [
    "#number of different podcasts in the subset, slightly different numbers\n",
    "len(df[\"podcast_id\"].unique())\n",
    "#len(df[\"podcast_title\"].unique())\n",
    "#len(df[\"slug\"].unique())"
   ]
  },
  {
   "cell_type": "code",
   "execution_count": 25,
   "id": "formal-classic",
   "metadata": {
    "scrolled": true
   },
   "outputs": [
    {
     "data": {
      "text/plain": [
       "My Favorite Murder with Karen Kilgariff and Georgia Hardstark    865\n",
       "Wow in the World                                                 737\n",
       "True Crime Obsessed                                              644\n",
       "Story Pirates                                                    519\n",
       "The Joe Rogan Experience                                         449\n",
       "Wine & Crime                                                     439\n",
       "Crime in Sports                                                  437\n",
       "Armchair Expert with Dax Shepard                                 424\n",
       "Zane and Heath: Unfiltered                                       388\n",
       "K-Pop Daebak w/ Eric Nam                                         319\n",
       "Name: podcast_title, dtype: int64"
      ]
     },
     "execution_count": 25,
     "metadata": {},
     "output_type": "execute_result"
    }
   ],
   "source": [
    "df[\"podcast_title\"].value_counts().head(10)"
   ]
  },
  {
   "cell_type": "code",
   "execution_count": 26,
   "id": "concerned-nigeria",
   "metadata": {
    "scrolled": true
   },
   "outputs": [
    {
     "name": "stdout",
     "output_type": "stream",
     "text": [
      "It Came from the Longbox          1\n",
      "FilmScene                         1\n",
      "Shenanigans with Rick Welbanks    1\n",
      "Atheist Vanguard                  1\n",
      "Movietown Movie Club              1\n",
      "Name: podcast_title, dtype: int64\n"
     ]
    }
   ],
   "source": [
    "print(df[\"podcast_title\"].value_counts().tail())"
   ]
  },
  {
   "cell_type": "code",
   "execution_count": 27,
   "id": "prostate-spring",
   "metadata": {
    "scrolled": true
   },
   "outputs": [
    {
     "name": "stdout",
     "output_type": "stream",
     "text": [
      "26\n"
     ]
    },
    {
     "data": {
      "text/plain": [
       "comedy                               25889\n",
       "society-culture                      19346\n",
       "business                             14488\n",
       "arts                                 10805\n",
       "education                             8414\n",
       "tv-film                               7241\n",
       "christianity                          6145\n",
       "kids-family                           4516\n",
       "music                                 3653\n",
       "religion-spirituality                 2600\n",
       "technology                            2507\n",
       "business-careers                       253\n",
       "society-culture-personal-journals      175\n",
       "society-culture-places-travel          175\n",
       "spirituality                           168\n",
       "business-investing                     147\n",
       "judaism                                134\n",
       "arts-food                              124\n",
       "society-culture-philosophy             117\n",
       "arts-performing-arts                   109\n",
       "arts-visual-arts                       107\n",
       "buddhism                               107\n",
       "islam                                   96\n",
       "arts-design                             84\n",
       "hinduism                                25\n",
       "arts-fashion-beauty                     20\n",
       "Name: category, dtype: int64"
      ]
     },
     "execution_count": 27,
     "metadata": {},
     "output_type": "execute_result"
    }
   ],
   "source": [
    "#there are 26 categories for all the podcasts\n",
    "print(len(df.category.unique()))\n",
    "\n",
    "#the most/least popular categories in terms of number of reviews\n",
    "df[\"category\"].value_counts()"
   ]
  },
  {
   "cell_type": "code",
   "execution_count": 28,
   "id": "legendary-fiction",
   "metadata": {
    "scrolled": true
   },
   "outputs": [],
   "source": [
    "# #review ranging from 2005 to 2021\n",
    "# df.sort_values(\"created_at\").head(3)\n",
    "# df.sort_values(\"created_at\").tail(3)"
   ]
  },
  {
   "cell_type": "markdown",
   "id": "satellite-catering",
   "metadata": {},
   "source": [
    "### Are there podcast I known of?"
   ]
  },
  {
   "cell_type": "code",
   "execution_count": 29,
   "id": "geographic-pierre",
   "metadata": {},
   "outputs": [
    {
     "name": "stdout",
     "output_type": "stream",
     "text": [
      "The Overwhelmed Brain\n",
      "Teaching Your Brain to Knit\n",
      "Kwik Brain with Jim Kwik\n",
      "BrainBox\n",
      "Kwik Brain with Jim Kwik\n",
      "The Overwhelmed Brain\n",
      "Kwik Brain with Jim Kwik\n",
      "Brain Burps About Books\n",
      "Kwik Brain with Jim Kwik\n",
      "Kwik Brain with Jim Kwik\n",
      "Beauty, Brains & Business\n",
      "After Dinner Investor | On The Hunt For No-Brainer Stock Investments\n",
      "Kwik Brain with Jim Kwik\n",
      "Brain Burps About Books\n",
      "The Overwhelmed Brain\n",
      "The Overwhelmed Brain\n",
      "The Overwhelmed Brain\n",
      "The Overwhelmed Brain\n",
      "Brain Bitez\n",
      "The Overwhelmed Brain\n",
      "The Overwhelmed Brain\n",
      "Brain Burps About Books\n",
      "Kwik Brain with Jim Kwik\n",
      "Kwik Brain with Jim Kwik\n",
      "Kwik Brain with Jim Kwik\n",
      "The Overwhelmed Brain\n",
      "BrainWaves: A Neurology Podcast\n",
      "Kwik Brain with Jim Kwik\n",
      "Kwik Brain with Jim Kwik\n",
      "Beauty, Brains & Business\n",
      "The Overwhelmed Brain\n",
      "BrainStuff\n",
      "BrainStuff\n",
      "BrainStuff\n",
      "Kwik Brain with Jim Kwik\n",
      "Hot Brain\n",
      "Brain Bitez\n",
      "Kwik Brain with Jim Kwik\n",
      "Brain Dead Radio\n",
      "Teaching Your Brain to Knit\n",
      "Kwik Brain with Jim Kwik\n",
      "Kwik Brain with Jim Kwik\n",
      "Brain Bitez\n",
      "Basic Brainheart\n",
      "Brain Burps About Books\n",
      "Your Brain on Facts\n",
      "Brain Burps About Books\n",
      "BrainStuff\n",
      "The Overwhelmed Brain\n",
      "Brainwashed Radio - The Podcast Edition\n",
      "BrainStuff\n",
      "Hot Brain\n",
      "Kwik Brain with Jim Kwik\n",
      "Kwik Brain with Jim Kwik\n",
      "BrainStuff\n",
      "The Overwhelmed Brain\n",
      "BrainStuff\n",
      "Shift For Brains\n",
      "Kwik Brain with Jim Kwik\n",
      "The Overwhelmed Brain\n",
      "Braincast\n",
      "Kwik Brain with Jim Kwik\n",
      "The Overwhelmed Brain\n",
      "BrainStuff\n",
      "Kwik Brain with Jim Kwik\n",
      "Kwik Brain with Jim Kwik\n",
      "BrainStuff\n",
      "Kwik Brain with Jim Kwik\n",
      "Smarter Brain, Better Memory\n",
      "Brain Burps About Books\n",
      "The Overwhelmed Brain\n",
      "BrainStuff\n",
      "BrainStuff\n",
      "Your Brain on Facts\n",
      "The Overwhelmed Brain\n",
      "BrainStuff\n",
      "Inside the Brain of...\n",
      "Brainwashed Radio - The Podcast Edition\n",
      "Kwik Brain with Jim Kwik\n",
      "Brain Jail\n",
      "Kwik Brain with Jim Kwik\n",
      "Kwik Brain with Jim Kwik\n",
      "Smarter Brain, Better Memory\n",
      "Brainy Gamer Podcast\n",
      "Kwik Brain with Jim Kwik\n",
      "Brain Jail\n",
      "Kwik Brain with Jim Kwik\n",
      "The Overwhelmed Brain\n",
      "Kwik Brain with Jim Kwik\n",
      "Beauty, Brains & Business\n",
      "Brain Bitez\n",
      "WorkingPreacher.org Sermon Brainwave\n",
      "The Overwhelmed Brain\n",
      "BrainStuff\n",
      "BrainWaves: A Neurology Podcast\n",
      "BrainStuff\n",
      "Kwik Brain with Jim Kwik\n",
      "The Overwhelmed Brain\n",
      "Kwik Brain with Jim Kwik\n",
      "Your Brain on Facts\n",
      "BrainStuff\n",
      "Beauty, Brains & Business\n",
      "Music and the Brain\n",
      "Your Brain on Facts\n",
      "The Overwhelmed Brain\n",
      "BrainWaves: A Neurology Podcast\n",
      "Your Brain on Facts\n",
      "BrainStuff\n",
      "Can I Pick Your Brain? Entrepreneur Business Podcast\n",
      "Kwik Brain with Jim Kwik\n",
      "The Overwhelmed Brain\n",
      "Can I Pick Your Brain? Entrepreneur Business Podcast\n",
      "Your Brain on Facts\n",
      "Kwik Brain with Jim Kwik\n",
      "Kwik Brain with Jim Kwik\n",
      "Brain Jail\n",
      "Kwik Brain with Jim Kwik\n",
      "Kwik Brain with Jim Kwik\n",
      "BrainWaves: A Neurology Podcast\n",
      "Hangin' Brain\n",
      "Brain Burps About Books\n",
      "Kwik Brain with Jim Kwik\n",
      "The Overwhelmed Brain\n",
      "Brainwashed Radio - The Podcast Edition\n",
      "Embrace Your Brain\n",
      "Hangin' Brain\n",
      "The Overwhelmed Brain\n",
      "Kwik Brain with Jim Kwik\n",
      "Kwik Brain with Jim Kwik\n",
      "The Overwhelmed Brain\n",
      "Movie Brain Rot\n",
      "Brainwashed Radio - The Podcast Edition\n",
      "Brain Burps About Books\n",
      "The Overwhelmed Brain\n",
      "Kwik Brain with Jim Kwik\n",
      "The Overwhelmed Brain\n",
      "Brainerd Baptist Church - Chattanooga\n",
      "BrainStuff\n",
      "Brain Burps About Books\n",
      "Can I Pick Your Brain? Entrepreneur Business Podcast\n",
      "Can I Pick Your Brain? Entrepreneur Business Podcast\n",
      "Brainwashed Radio - The Podcast Edition\n",
      "Kwik Brain with Jim Kwik\n",
      "Big Brains\n",
      "BrainStuff\n",
      "Pick the Brain Podcast\n",
      "The Overwhelmed Brain\n",
      "It's A No-Brainer!\n",
      "BrainStuff\n",
      "Kwik Brain with Jim Kwik\n",
      "Our Brains Unsupervised\n",
      "BrainStuff\n",
      "Your Brain on Facts\n",
      "The Overwhelmed Brain\n",
      "Brain Jail\n",
      "Speech Therapy: Storm of the Brains\n",
      "Kwik Brain with Jim Kwik\n",
      "The Overwhelmed Brain\n",
      "Brain Jail\n",
      "Kwik Brain with Jim Kwik\n",
      "Your Brain on Facts\n",
      "BrainWaves: A Neurology Podcast\n",
      "Brain Jail\n",
      "Pick the Brain Podcast\n",
      "The Overwhelmed Brain\n",
      "Brain Trust Live\n",
      "Braincast\n",
      "Kwik Brain with Jim Kwik\n",
      "Kwik Brain with Jim Kwik\n",
      "Kwik Brain with Jim Kwik\n",
      "Kwik Brain with Jim Kwik\n",
      "Kwik Brain with Jim Kwik\n",
      "Brain Jail\n",
      "Kwik Brain with Jim Kwik\n",
      "Kwik Brain with Jim Kwik\n",
      "BrainWaves: A Neurology Podcast\n",
      "Kwik Brain with Jim Kwik\n",
      "Movie Brain Rot\n",
      "Big Brains\n",
      "Brain Dead Radio\n",
      "The Overwhelmed Brain\n",
      "BrainStuff\n",
      "Feed Your Brain - Future of Tech, Strategy in Business and Digital Innovation\n",
      "Brain Burps About Books\n",
      "The Overwhelmed Brain\n",
      "Hangin' Brain\n",
      "The Overwhelmed Brain\n",
      "Brain Bites\n",
      "Brain Bitez\n",
      "Brain Bitez\n",
      "Kwik Brain with Jim Kwik\n",
      "Kwik Brain with Jim Kwik\n",
      "The Overwhelmed Brain\n",
      "Kwik Brain with Jim Kwik\n",
      "Metal For Brains\n",
      "Kwik Brain with Jim Kwik\n",
      "Kwik Brain with Jim Kwik\n",
      "Brain Jail\n",
      "Kwik Brain with Jim Kwik\n",
      "BrainStuff\n",
      "BrainStuff\n",
      "WorkingPreacher.org Sermon Brainwave\n",
      "Big Brains\n",
      "Can I Pick Your Brain? Entrepreneur Business Podcast\n",
      "Kwik Brain with Jim Kwik\n",
      "BrainStuff\n",
      "Hot Brain\n",
      "Kwik Brain with Jim Kwik\n",
      "Inside the Brain of...\n",
      "BrainStuff\n",
      "The Overwhelmed Brain\n",
      "Beauty, Brains & Business\n",
      "Kwik Brain with Jim Kwik\n",
      "Big Brains\n",
      "Kwik Brain with Jim Kwik\n",
      "Kwik Brain with Jim Kwik\n",
      "Kwik Brain with Jim Kwik\n",
      "Kwik Brain with Jim Kwik\n",
      "The Overwhelmed Brain\n",
      "BrainWaves: A Neurology Podcast\n",
      "Pick the Brain Podcast\n",
      "Kwik Brain with Jim Kwik\n",
      "Hot Brain\n",
      "ByrdBrain\n",
      "Brain Bitez\n",
      "Kwik Brain with Jim Kwik\n",
      "Kwik Brain with Jim Kwik\n",
      "Brainy Gamer Podcast\n",
      "Kwik Brain with Jim Kwik\n",
      "Big Brains\n",
      "Neural Implant podcast - the people behind Brain-Machine Interface revolutions\n",
      "BrainStuff\n",
      "BrainStuff\n",
      "Brain Bitez\n",
      "The Overwhelmed Brain\n",
      "Metal Brainiac\n",
      "BrainStuff\n",
      "Kwik Brain with Jim Kwik\n",
      "Our Brains Unsupervised\n",
      "Kwik Brain with Jim Kwik\n",
      "Teaching Your Brain to Knit\n",
      "Kwik Brain with Jim Kwik\n",
      "BrainWaves: A Neurology Podcast\n",
      "BrainStuff\n",
      "BrainStuff\n",
      "The Overwhelmed Brain\n"
     ]
    }
   ],
   "source": [
    "#Invisibilia and guess what, I found Avatar The Last Airbender :D\n",
    "# Hidden Brain is not in the data set...hmmm...\n",
    "for title in df.podcast_title:\n",
    "    if \"Brain\" in title:\n",
    "        print(title)"
   ]
  },
  {
   "cell_type": "code",
   "execution_count": 30,
   "id": "intellectual-nightmare",
   "metadata": {},
   "outputs": [
    {
     "data": {
      "text/html": [
       "<div>\n",
       "<style scoped>\n",
       "    .dataframe tbody tr th:only-of-type {\n",
       "        vertical-align: middle;\n",
       "    }\n",
       "\n",
       "    .dataframe tbody tr th {\n",
       "        vertical-align: top;\n",
       "    }\n",
       "\n",
       "    .dataframe thead th {\n",
       "        text-align: right;\n",
       "    }\n",
       "</style>\n",
       "<table border=\"1\" class=\"dataframe\">\n",
       "  <thead>\n",
       "    <tr style=\"text-align: right;\">\n",
       "      <th></th>\n",
       "      <th>podcast_id</th>\n",
       "      <th>review_title</th>\n",
       "      <th>content</th>\n",
       "      <th>rating</th>\n",
       "      <th>created_at</th>\n",
       "      <th>category</th>\n",
       "      <th>itunes_id</th>\n",
       "      <th>slug</th>\n",
       "      <th>itunes_url</th>\n",
       "      <th>podcast_title</th>\n",
       "    </tr>\n",
       "  </thead>\n",
       "  <tbody>\n",
       "    <tr>\n",
       "      <th>372782</th>\n",
       "      <td>a5416c179e94a74e61827c88e405b083</td>\n",
       "      <td>Great!</td>\n",
       "      <td>I love the show, but there are some problems w...</td>\n",
       "      <td>5</td>\n",
       "      <td>2018-04-13T07:52:05-07:00</td>\n",
       "      <td>society-culture</td>\n",
       "      <td>953290300</td>\n",
       "      <td>invisibilia</td>\n",
       "      <td>https://podcasts.apple.com/us/podcast/invisibi...</td>\n",
       "      <td>Invisibilia</td>\n",
       "    </tr>\n",
       "    <tr>\n",
       "      <th>372767</th>\n",
       "      <td>a5416c179e94a74e61827c88e405b083</td>\n",
       "      <td>Wonderfully crafted and Beautifully Executed</td>\n",
       "      <td>This show is funny, important, emotional, very...</td>\n",
       "      <td>5</td>\n",
       "      <td>2018-04-16T18:26:03-07:00</td>\n",
       "      <td>society-culture</td>\n",
       "      <td>953290300</td>\n",
       "      <td>invisibilia</td>\n",
       "      <td>https://podcasts.apple.com/us/podcast/invisibi...</td>\n",
       "      <td>Invisibilia</td>\n",
       "    </tr>\n",
       "    <tr>\n",
       "      <th>372762</th>\n",
       "      <td>a5416c179e94a74e61827c88e405b083</td>\n",
       "      <td>Amazing</td>\n",
       "      <td>An very insightful and thought provoking podca...</td>\n",
       "      <td>5</td>\n",
       "      <td>2018-04-18T13:09:29-07:00</td>\n",
       "      <td>society-culture</td>\n",
       "      <td>953290300</td>\n",
       "      <td>invisibilia</td>\n",
       "      <td>https://podcasts.apple.com/us/podcast/invisibi...</td>\n",
       "      <td>Invisibilia</td>\n",
       "    </tr>\n",
       "  </tbody>\n",
       "</table>\n",
       "</div>"
      ],
      "text/plain": [
       "                              podcast_id  \\\n",
       "372782  a5416c179e94a74e61827c88e405b083   \n",
       "372767  a5416c179e94a74e61827c88e405b083   \n",
       "372762  a5416c179e94a74e61827c88e405b083   \n",
       "\n",
       "                                        review_title  \\\n",
       "372782                                        Great!   \n",
       "372767  Wonderfully crafted and Beautifully Executed   \n",
       "372762                                       Amazing   \n",
       "\n",
       "                                                  content  rating  \\\n",
       "372782  I love the show, but there are some problems w...       5   \n",
       "372767  This show is funny, important, emotional, very...       5   \n",
       "372762  An very insightful and thought provoking podca...       5   \n",
       "\n",
       "                       created_at         category  itunes_id         slug  \\\n",
       "372782  2018-04-13T07:52:05-07:00  society-culture  953290300  invisibilia   \n",
       "372767  2018-04-16T18:26:03-07:00  society-culture  953290300  invisibilia   \n",
       "372762  2018-04-18T13:09:29-07:00  society-culture  953290300  invisibilia   \n",
       "\n",
       "                                               itunes_url podcast_title  \n",
       "372782  https://podcasts.apple.com/us/podcast/invisibi...   Invisibilia  \n",
       "372767  https://podcasts.apple.com/us/podcast/invisibi...   Invisibilia  \n",
       "372762  https://podcasts.apple.com/us/podcast/invisibi...   Invisibilia  "
      ]
     },
     "execution_count": 30,
     "metadata": {},
     "output_type": "execute_result"
    }
   ],
   "source": [
    "mask = df[\"podcast_title\"] == \"Invisibilia\" #\"Podcast – Avatar The Last Airbender\"\n",
    "df[mask].sort_values(\"created_at\").head(3)"
   ]
  },
  {
   "cell_type": "markdown",
   "id": "intelligent-python",
   "metadata": {},
   "source": [
    "### Drop columns and save df:"
   ]
  },
  {
   "cell_type": "code",
   "execution_count": 31,
   "id": "detected-madonna",
   "metadata": {},
   "outputs": [],
   "source": [
    "df_corpus = df.copy(deep=True)"
   ]
  },
  {
   "cell_type": "code",
   "execution_count": 32,
   "id": "premier-wonder",
   "metadata": {},
   "outputs": [],
   "source": [
    "df_corpus.drop([\"itunes_id\", \"slug\", \"itunes_url\"], axis=1, inplace=True)"
   ]
  },
  {
   "cell_type": "code",
   "execution_count": 33,
   "id": "tamil-roulette",
   "metadata": {},
   "outputs": [
    {
     "data": {
      "text/html": [
       "<div>\n",
       "<style scoped>\n",
       "    .dataframe tbody tr th:only-of-type {\n",
       "        vertical-align: middle;\n",
       "    }\n",
       "\n",
       "    .dataframe tbody tr th {\n",
       "        vertical-align: top;\n",
       "    }\n",
       "\n",
       "    .dataframe thead th {\n",
       "        text-align: right;\n",
       "    }\n",
       "</style>\n",
       "<table border=\"1\" class=\"dataframe\">\n",
       "  <thead>\n",
       "    <tr style=\"text-align: right;\">\n",
       "      <th></th>\n",
       "      <th>podcast_id</th>\n",
       "      <th>review_title</th>\n",
       "      <th>content</th>\n",
       "      <th>rating</th>\n",
       "      <th>created_at</th>\n",
       "      <th>category</th>\n",
       "      <th>podcast_title</th>\n",
       "    </tr>\n",
       "  </thead>\n",
       "  <tbody>\n",
       "    <tr>\n",
       "      <th>873185</th>\n",
       "      <td>a9bdaba5449189a4587793e36ce4f704</td>\n",
       "      <td>A True Crime Haiku for you</td>\n",
       "      <td>We listen closely,\\nCases of Murder and Loss\\n...</td>\n",
       "      <td>5</td>\n",
       "      <td>2019-10-10T15:19:20-07:00</td>\n",
       "      <td>society-culture</td>\n",
       "      <td>Going West: True Crime</td>\n",
       "    </tr>\n",
       "    <tr>\n",
       "      <th>694914</th>\n",
       "      <td>c699968fd592a60c3ba7333d530907d7</td>\n",
       "      <td>Engaging in my 60's</td>\n",
       "      <td>Love Adam &amp; Brooke! So true, the generations c...</td>\n",
       "      <td>5</td>\n",
       "      <td>2018-12-31T04:22:13-07:00</td>\n",
       "      <td>comedy</td>\n",
       "      <td>Thirty, Flirty, &amp; Dying</td>\n",
       "    </tr>\n",
       "    <tr>\n",
       "      <th>759771</th>\n",
       "      <td>dcfb90baae108f9938fd3a762b810cc3</td>\n",
       "      <td>Highly recommend!</td>\n",
       "      <td>Holly and her guests share inspiring and actio...</td>\n",
       "      <td>5</td>\n",
       "      <td>2017-09-11T07:05:53-07:00</td>\n",
       "      <td>business</td>\n",
       "      <td>Nine To Thrive HR</td>\n",
       "    </tr>\n",
       "  </tbody>\n",
       "</table>\n",
       "</div>"
      ],
      "text/plain": [
       "                              podcast_id                review_title  \\\n",
       "873185  a9bdaba5449189a4587793e36ce4f704  A True Crime Haiku for you   \n",
       "694914  c699968fd592a60c3ba7333d530907d7         Engaging in my 60's   \n",
       "759771  dcfb90baae108f9938fd3a762b810cc3           Highly recommend!   \n",
       "\n",
       "                                                  content  rating  \\\n",
       "873185  We listen closely,\\nCases of Murder and Loss\\n...       5   \n",
       "694914  Love Adam & Brooke! So true, the generations c...       5   \n",
       "759771  Holly and her guests share inspiring and actio...       5   \n",
       "\n",
       "                       created_at         category            podcast_title  \n",
       "873185  2019-10-10T15:19:20-07:00  society-culture   Going West: True Crime  \n",
       "694914  2018-12-31T04:22:13-07:00           comedy  Thirty, Flirty, & Dying  \n",
       "759771  2017-09-11T07:05:53-07:00         business        Nine To Thrive HR  "
      ]
     },
     "execution_count": 33,
     "metadata": {},
     "output_type": "execute_result"
    }
   ],
   "source": [
    "df_corpus.head(3)"
   ]
  },
  {
   "cell_type": "code",
   "execution_count": 34,
   "id": "suburban-analysis",
   "metadata": {},
   "outputs": [],
   "source": [
    "import pickle\n",
    "df_corpus.to_pickle(\"data/df_100k_corpus.pkl\")"
   ]
  },
  {
   "cell_type": "markdown",
   "id": "operational-jonathan",
   "metadata": {},
   "source": [
    "### Review text cleaning (1) apply clean_text function (2) lemmatization:"
   ]
  },
  {
   "cell_type": "code",
   "execution_count": 35,
   "id": "illegal-personality",
   "metadata": {},
   "outputs": [],
   "source": [
    "import numpy as np\n",
    "import pandas as pd\n",
    "import matplotlib.pyplot as plt\n",
    "%matplotlib inline\n",
    "\n",
    "import re\n",
    "import time\n",
    "import nltk"
   ]
  },
  {
   "cell_type": "code",
   "execution_count": null,
   "id": "understanding-equivalent",
   "metadata": {},
   "outputs": [],
   "source": [
    "#nltk.download()"
   ]
  },
  {
   "cell_type": "code",
   "execution_count": 36,
   "id": "systematic-orleans",
   "metadata": {
    "scrolled": true
   },
   "outputs": [
    {
     "data": {
      "text/plain": [
       "(107445, 7)"
      ]
     },
     "execution_count": 36,
     "metadata": {},
     "output_type": "execute_result"
    }
   ],
   "source": [
    "df = pd.read_pickle(\"data/df_100k_corpus.pkl\")\n",
    "df.shape"
   ]
  },
  {
   "cell_type": "code",
   "execution_count": 37,
   "id": "oriental-persian",
   "metadata": {},
   "outputs": [],
   "source": [
    "#define function to convert all text to lower case, remove punctuation, remove words with number\n",
    "def clean_text(text):\n",
    "    \"\"\"Cleans text by making text lowercase, removing words containing numbers, and extracting only words.\n",
    "       Parameters: strings of text\n",
    "       Returns: cleaned text\n",
    "    \"\"\"\n",
    "    text = text.lower()\n",
    "    #replace \"\\n\" with a space\n",
    "    text = re.sub(\"\\n\", \" \", text)\n",
    "    #replace words with number in them with nothing\n",
    "    text = re.sub(\"\\w*\\d\\w*\", \"\", text)\n",
    "    #replace anything other than words and spaces with nothing\n",
    "    text = re.sub(\"[^a-z\\s]\", \"\", text)\n",
    "    \n",
    "    return text    "
   ]
  },
  {
   "cell_type": "code",
   "execution_count": 38,
   "id": "muslim-parent",
   "metadata": {
    "scrolled": false
   },
   "outputs": [
    {
     "data": {
      "text/html": [
       "<div>\n",
       "<style scoped>\n",
       "    .dataframe tbody tr th:only-of-type {\n",
       "        vertical-align: middle;\n",
       "    }\n",
       "\n",
       "    .dataframe tbody tr th {\n",
       "        vertical-align: top;\n",
       "    }\n",
       "\n",
       "    .dataframe thead th {\n",
       "        text-align: right;\n",
       "    }\n",
       "</style>\n",
       "<table border=\"1\" class=\"dataframe\">\n",
       "  <thead>\n",
       "    <tr style=\"text-align: right;\">\n",
       "      <th></th>\n",
       "      <th>podcast_id</th>\n",
       "      <th>review_title</th>\n",
       "      <th>content</th>\n",
       "      <th>rating</th>\n",
       "      <th>created_at</th>\n",
       "      <th>category</th>\n",
       "      <th>podcast_title</th>\n",
       "    </tr>\n",
       "  </thead>\n",
       "  <tbody>\n",
       "    <tr>\n",
       "      <th>873185</th>\n",
       "      <td>a9bdaba5449189a4587793e36ce4f704</td>\n",
       "      <td>A True Crime Haiku for you</td>\n",
       "      <td>We listen closely,\\nCases of Murder and Loss\\n...</td>\n",
       "      <td>5</td>\n",
       "      <td>2019-10-10T15:19:20-07:00</td>\n",
       "      <td>society-culture</td>\n",
       "      <td>Going West: True Crime</td>\n",
       "    </tr>\n",
       "    <tr>\n",
       "      <th>694914</th>\n",
       "      <td>c699968fd592a60c3ba7333d530907d7</td>\n",
       "      <td>Engaging in my 60's</td>\n",
       "      <td>Love Adam &amp; Brooke! So true, the generations c...</td>\n",
       "      <td>5</td>\n",
       "      <td>2018-12-31T04:22:13-07:00</td>\n",
       "      <td>comedy</td>\n",
       "      <td>Thirty, Flirty, &amp; Dying</td>\n",
       "    </tr>\n",
       "    <tr>\n",
       "      <th>759771</th>\n",
       "      <td>dcfb90baae108f9938fd3a762b810cc3</td>\n",
       "      <td>Highly recommend!</td>\n",
       "      <td>Holly and her guests share inspiring and actio...</td>\n",
       "      <td>5</td>\n",
       "      <td>2017-09-11T07:05:53-07:00</td>\n",
       "      <td>business</td>\n",
       "      <td>Nine To Thrive HR</td>\n",
       "    </tr>\n",
       "  </tbody>\n",
       "</table>\n",
       "</div>"
      ],
      "text/plain": [
       "                              podcast_id                review_title  \\\n",
       "873185  a9bdaba5449189a4587793e36ce4f704  A True Crime Haiku for you   \n",
       "694914  c699968fd592a60c3ba7333d530907d7         Engaging in my 60's   \n",
       "759771  dcfb90baae108f9938fd3a762b810cc3           Highly recommend!   \n",
       "\n",
       "                                                  content  rating  \\\n",
       "873185  We listen closely,\\nCases of Murder and Loss\\n...       5   \n",
       "694914  Love Adam & Brooke! So true, the generations c...       5   \n",
       "759771  Holly and her guests share inspiring and actio...       5   \n",
       "\n",
       "                       created_at         category            podcast_title  \n",
       "873185  2019-10-10T15:19:20-07:00  society-culture   Going West: True Crime  \n",
       "694914  2018-12-31T04:22:13-07:00           comedy  Thirty, Flirty, & Dying  \n",
       "759771  2017-09-11T07:05:53-07:00         business        Nine To Thrive HR  "
      ]
     },
     "execution_count": 38,
     "metadata": {},
     "output_type": "execute_result"
    }
   ],
   "source": [
    "df.head(3)"
   ]
  },
  {
   "cell_type": "code",
   "execution_count": 39,
   "id": "oriented-gregory",
   "metadata": {},
   "outputs": [],
   "source": [
    "#clean review content and add it to a new column in the data frame\n",
    "df[\"cont_clean\"] = df[\"content\"].apply(clean_text)"
   ]
  },
  {
   "cell_type": "markdown",
   "id": "macro-heading",
   "metadata": {},
   "source": [
    "### Lemmatization:"
   ]
  },
  {
   "cell_type": "code",
   "execution_count": 40,
   "id": "textile-harvest",
   "metadata": {},
   "outputs": [],
   "source": [
    "from nltk.tokenize import word_tokenize\n",
    "\n",
    "from nltk.stem import WordNetLemmatizer\n",
    "lemmatizer = WordNetLemmatizer()"
   ]
  },
  {
   "cell_type": "code",
   "execution_count": 41,
   "id": "identified-arctic",
   "metadata": {
    "scrolled": true
   },
   "outputs": [
    {
     "data": {
      "text/html": [
       "<div>\n",
       "<style scoped>\n",
       "    .dataframe tbody tr th:only-of-type {\n",
       "        vertical-align: middle;\n",
       "    }\n",
       "\n",
       "    .dataframe tbody tr th {\n",
       "        vertical-align: top;\n",
       "    }\n",
       "\n",
       "    .dataframe thead th {\n",
       "        text-align: right;\n",
       "    }\n",
       "</style>\n",
       "<table border=\"1\" class=\"dataframe\">\n",
       "  <thead>\n",
       "    <tr style=\"text-align: right;\">\n",
       "      <th></th>\n",
       "      <th>podcast_id</th>\n",
       "      <th>review_title</th>\n",
       "      <th>content</th>\n",
       "      <th>rating</th>\n",
       "      <th>created_at</th>\n",
       "      <th>category</th>\n",
       "      <th>podcast_title</th>\n",
       "      <th>cont_clean</th>\n",
       "    </tr>\n",
       "  </thead>\n",
       "  <tbody>\n",
       "    <tr>\n",
       "      <th>873185</th>\n",
       "      <td>a9bdaba5449189a4587793e36ce4f704</td>\n",
       "      <td>A True Crime Haiku for you</td>\n",
       "      <td>We listen closely,\\nCases of Murder and Loss\\n...</td>\n",
       "      <td>5</td>\n",
       "      <td>2019-10-10T15:19:20-07:00</td>\n",
       "      <td>society-culture</td>\n",
       "      <td>Going West: True Crime</td>\n",
       "      <td>we listen closely case of murder and loss goin...</td>\n",
       "    </tr>\n",
       "    <tr>\n",
       "      <th>694914</th>\n",
       "      <td>c699968fd592a60c3ba7333d530907d7</td>\n",
       "      <td>Engaging in my 60's</td>\n",
       "      <td>Love Adam &amp; Brooke! So true, the generations c...</td>\n",
       "      <td>5</td>\n",
       "      <td>2018-12-31T04:22:13-07:00</td>\n",
       "      <td>comedy</td>\n",
       "      <td>Thirty, Flirty, &amp; Dying</td>\n",
       "      <td>love adam brooke so true the generation change...</td>\n",
       "    </tr>\n",
       "    <tr>\n",
       "      <th>759771</th>\n",
       "      <td>dcfb90baae108f9938fd3a762b810cc3</td>\n",
       "      <td>Highly recommend!</td>\n",
       "      <td>Holly and her guests share inspiring and actio...</td>\n",
       "      <td>5</td>\n",
       "      <td>2017-09-11T07:05:53-07:00</td>\n",
       "      <td>business</td>\n",
       "      <td>Nine To Thrive HR</td>\n",
       "      <td>holly and her guest share inspiring and action...</td>\n",
       "    </tr>\n",
       "  </tbody>\n",
       "</table>\n",
       "</div>"
      ],
      "text/plain": [
       "                              podcast_id                review_title  \\\n",
       "873185  a9bdaba5449189a4587793e36ce4f704  A True Crime Haiku for you   \n",
       "694914  c699968fd592a60c3ba7333d530907d7         Engaging in my 60's   \n",
       "759771  dcfb90baae108f9938fd3a762b810cc3           Highly recommend!   \n",
       "\n",
       "                                                  content  rating  \\\n",
       "873185  We listen closely,\\nCases of Murder and Loss\\n...       5   \n",
       "694914  Love Adam & Brooke! So true, the generations c...       5   \n",
       "759771  Holly and her guests share inspiring and actio...       5   \n",
       "\n",
       "                       created_at         category            podcast_title  \\\n",
       "873185  2019-10-10T15:19:20-07:00  society-culture   Going West: True Crime   \n",
       "694914  2018-12-31T04:22:13-07:00           comedy  Thirty, Flirty, & Dying   \n",
       "759771  2017-09-11T07:05:53-07:00         business        Nine To Thrive HR   \n",
       "\n",
       "                                               cont_clean  \n",
       "873185  we listen closely case of murder and loss goin...  \n",
       "694914  love adam brooke so true the generation change...  \n",
       "759771  holly and her guest share inspiring and action...  "
      ]
     },
     "execution_count": 41,
     "metadata": {},
     "output_type": "execute_result"
    }
   ],
   "source": [
    "#tokenize the cleaned review content, apply lemmatization, and join the words back together\n",
    "df[\"cont_clean\"] = df[\"cont_clean\"].apply(word_tokenize)\n",
    "\n",
    "df[\"cont_clean\"] = df[\"cont_clean\"].apply(lambda x: [lemmatizer.lemmatize(i) for i in x])\n",
    "df[\"cont_clean\"] = df[\"cont_clean\"].apply(lambda x: \" \".join(x))\n",
    "df.head(3)"
   ]
  },
  {
   "cell_type": "code",
   "execution_count": 42,
   "id": "abroad-sunday",
   "metadata": {},
   "outputs": [],
   "source": [
    "#save dataframe\n",
    "df.to_pickle(\"data/df_100k_clean.pkl\")"
   ]
  },
  {
   "cell_type": "markdown",
   "id": "moving-kuwait",
   "metadata": {},
   "source": [
    "### View review content before and after cleaning:"
   ]
  },
  {
   "cell_type": "code",
   "execution_count": 43,
   "id": "elder-brooks",
   "metadata": {
    "scrolled": false
   },
   "outputs": [
    {
     "name": "stdout",
     "output_type": "stream",
     "text": [
      "Review before cleaning: We listen closely,\n",
      "Cases of Murder and Loss\n",
      "Going West : True Crime\n",
      "\n",
      "Stella\n",
      "Portland, Oregon \n",
      "\n",
      "Review before cleaning: Love Adam & Brooke! So true, the generations change, but they do recycle. I love the banter and found the discussion of bell bottoms & record players funny. It brought back memories of my own discussion with my mom as a little girl. I told her she should wear bell bottoms because they're so cool and she said I've been there, done that, and no! I get it now. 😂 \n",
      "\n",
      "Review before cleaning: Holly and her guests share inspiring and actionable lessons on how to succeed as a leader in business, HR, and life. Highly recommend listening to Nine to Thrive HR if you want the knowledge AND mindsets to build your best team and grow your business! \n",
      "\n"
     ]
    }
   ],
   "source": [
    "#review samples before cleaning\n",
    "for i in df[\"content\"][:3]:\n",
    "    print(\"Review before cleaning:\", i, \"\\n\")"
   ]
  },
  {
   "cell_type": "code",
   "execution_count": 44,
   "id": "accessory-feelings",
   "metadata": {
    "scrolled": false
   },
   "outputs": [
    {
     "name": "stdout",
     "output_type": "stream",
     "text": [
      "REVIEW AFTER CLEANING: we listen closely case of murder and loss going west true crime stella portland oregon \n",
      "\n",
      "REVIEW AFTER CLEANING: love adam brooke so true the generation change but they do recycle i love the banter and found the discussion of bell bottom record player funny it brought back memory of my own discussion with my mom a a little girl i told her she should wear bell bottom because theyre so cool and she said ive been there done that and no i get it now \n",
      "\n",
      "REVIEW AFTER CLEANING: holly and her guest share inspiring and actionable lesson on how to succeed a a leader in business hr and life highly recommend listening to nine to thrive hr if you want the knowledge and mindset to build your best team and grow your business \n",
      "\n"
     ]
    }
   ],
   "source": [
    "#review samples after cleaning\n",
    "for i in df[\"cont_clean\"][:3]:\n",
    "    print(f\"REVIEW AFTER CLEANING:\", i, \"\\n\")"
   ]
  },
  {
   "cell_type": "markdown",
   "id": "sound-witness",
   "metadata": {},
   "source": [
    "### It's hard to tell what some of the words are in the topics after stemming\n",
    "### Reference for applying Lancaster and Snowball  stemmer:"
   ]
  },
  {
   "cell_type": "code",
   "execution_count": null,
   "id": "changed-penny",
   "metadata": {
    "scrolled": true
   },
   "outputs": [],
   "source": [
    "from nltk.stem.lancaster import LancasterStemmer\n",
    "\n",
    "#apply Lancaster stemming\n",
    "stemmer = LancasterStemmer()\n",
    "\n",
    "start = time.time()\n",
    "text_noun[\"content\"] = text_noun[\"content\"].apply(lambda x: [stemmer.stem(i) for i in x])\n",
    "print(time.time() - start)\n",
    "\n",
    "#joining all the nouns together\n",
    "text_noun[\"content\"] = text_noun[\"content\"].apply(lambda x: \" \".join(x))"
   ]
  },
  {
   "cell_type": "code",
   "execution_count": null,
   "id": "latter-medline",
   "metadata": {},
   "outputs": [],
   "source": [
    "text_noun.head(3)"
   ]
  },
  {
   "cell_type": "code",
   "execution_count": null,
   "id": "three-alliance",
   "metadata": {},
   "outputs": [],
   "source": [
    "from nltk.stem.snowball import SnowballStemmer\n",
    "\n",
    "#apply Snowball stemming\n",
    "sb_stemmer = SnowballStemmer(\"english\")\n",
    "\n",
    "start = time.time()\n",
    "text_noun[\"content\"] = text_noun[\"content\"].apply(lambda x: [sb_stemmer.stem(i) for i in x])\n",
    "print(time.time() - start)\n",
    "\n",
    "#joining all the nouns together\n",
    "text_noun[\"content\"] = text_noun[\"content\"].apply(lambda x: \" \".join(x))"
   ]
  },
  {
   "cell_type": "code",
   "execution_count": null,
   "id": "known-birmingham",
   "metadata": {},
   "outputs": [],
   "source": [
    "text_noun.head(3)"
   ]
  },
  {
   "cell_type": "code",
   "execution_count": null,
   "id": "brave-professional",
   "metadata": {},
   "outputs": [],
   "source": []
  }
 ],
 "metadata": {
  "kernelspec": {
   "display_name": "Python [conda env:metis]",
   "language": "python",
   "name": "conda-env-metis-py"
  },
  "language_info": {
   "codemirror_mode": {
    "name": "ipython",
    "version": 3
   },
   "file_extension": ".py",
   "mimetype": "text/x-python",
   "name": "python",
   "nbconvert_exporter": "python",
   "pygments_lexer": "ipython3",
   "version": "3.8.6"
  }
 },
 "nbformat": 4,
 "nbformat_minor": 5
}
